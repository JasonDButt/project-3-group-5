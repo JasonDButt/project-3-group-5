{
 "cells": [
  {
   "cell_type": "code",
   "execution_count": 1,
   "metadata": {},
   "outputs": [],
   "source": [
    "import sqlite3\n",
    "import pandas as pd\n",
    "import json"
   ]
  },
  {
   "cell_type": "code",
   "execution_count": null,
   "metadata": {},
   "outputs": [],
   "source": [
    "# open JSON data\n",
    "with open(\"data/dino_data.json\") as f:\n",
    "    data = json.load(f)\n",
    "\n",
    "# create a dataframe from the JSON data\n",
    "# print(json.dumps(data, indent=4))"
   ]
  },
  {
   "cell_type": "code",
   "execution_count": null,
   "metadata": {},
   "outputs": [],
   "source": [
    "data_json = json.load(open('data/dino_data.json'))\n",
    "\n",
    "df=pd.DataFrame(data_json['records'])\n",
    "df_new=df[['eag','lag','phl','cll','odl','fml','gnl','lng','lat']]\n",
    "df_new.dropna()\n",
    "\n",
    "df_new.head()"
   ]
  },
  {
   "cell_type": "code",
   "execution_count": 5,
   "metadata": {},
   "outputs": [],
   "source": [
    "# # create a database\n",
    "# conn = sqlite3.connect('data/dino.db')\n",
    "# # c = conn.cursor()\n",
    "\n",
    "# df_new.to_sql('dino_Table', conn)"
   ]
  },
  {
   "cell_type": "code",
   "execution_count": null,
   "metadata": {},
   "outputs": [],
   "source": [
    "df1=pd.read_sql_query('SELECT * from dino_table', conn)\n",
    "df1.head()"
   ]
  }
 ],
 "metadata": {
  "kernelspec": {
   "display_name": "Python 3.7.13 ('bootcamp')",
   "language": "python",
   "name": "python3"
  },
  "language_info": {
   "codemirror_mode": {
    "name": "ipython",
    "version": 3
   },
   "file_extension": ".py",
   "mimetype": "text/x-python",
   "name": "python",
   "nbconvert_exporter": "python",
   "pygments_lexer": "ipython3",
   "version": "3.7.13"
  },
  "orig_nbformat": 4,
  "vscode": {
   "interpreter": {
    "hash": "b08fbafe6bae7878d52933ff325e12d973e1149faba7d07bc495019320ca8794"
   }
  }
 },
 "nbformat": 4,
 "nbformat_minor": 2
}
